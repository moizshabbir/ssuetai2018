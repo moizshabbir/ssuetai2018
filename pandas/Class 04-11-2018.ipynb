{
 "cells": [
  {
   "cell_type": "code",
   "execution_count": 2,
   "metadata": {},
   "outputs": [],
   "source": [
    "import numpy as np"
   ]
  },
  {
   "cell_type": "code",
   "execution_count": 4,
   "metadata": {},
   "outputs": [
    {
     "data": {
      "text/plain": [
       "array([[[6.23042070e-307, 3.56043053e-307],\n",
       "        [1.60219306e-306, 7.56571288e-307],\n",
       "        [1.89146896e-307, 1.37961302e-306]],\n",
       "\n",
       "       [[1.05699242e-307, 8.01097889e-307],\n",
       "        [1.60219035e-306, 1.33511969e-306],\n",
       "        [1.78022206e-306, 1.60219035e-306]]])"
      ]
     },
     "execution_count": 4,
     "metadata": {},
     "output_type": "execute_result"
    }
   ],
   "source": [
    "np.empty((2,3,2))"
   ]
  },
  {
   "cell_type": "code",
   "execution_count": 5,
   "metadata": {},
   "outputs": [
    {
     "data": {
      "text/plain": [
       "array([[[0., 0.],\n",
       "        [0., 0.],\n",
       "        [0., 0.]],\n",
       "\n",
       "       [[0., 0.],\n",
       "        [0., 0.],\n",
       "        [0., 0.]]])"
      ]
     },
     "execution_count": 5,
     "metadata": {},
     "output_type": "execute_result"
    }
   ],
   "source": [
    "np.zeros((2,3,2))"
   ]
  },
  {
   "cell_type": "code",
   "execution_count": 7,
   "metadata": {},
   "outputs": [
    {
     "name": "stdout",
     "output_type": "stream",
     "text": [
      "[[-2.40048019 -0.98880475]\n",
      " [-0.81937624  0.30386596]]\n"
     ]
    },
    {
     "data": {
      "text/plain": [
       "array([[1., 1.],\n",
       "       [1., 1.]])"
      ]
     },
     "execution_count": 7,
     "metadata": {},
     "output_type": "execute_result"
    }
   ],
   "source": [
    "a = np.random.randn(2,2)\n",
    "print(a)\n",
    "np.ones_like(a)"
   ]
  },
  {
   "cell_type": "code",
   "execution_count": 8,
   "metadata": {},
   "outputs": [
    {
     "name": "stdout",
     "output_type": "stream",
     "text": [
      "[[-0.7876373   0.05237788]\n",
      " [-1.08981825  0.21615885]]\n"
     ]
    },
    {
     "data": {
      "text/plain": [
       "array([[0., 0.],\n",
       "       [0., 0.]])"
      ]
     },
     "execution_count": 8,
     "metadata": {},
     "output_type": "execute_result"
    }
   ],
   "source": [
    "b = np.random.randn(2,2)\n",
    "print(b)\n",
    "np.zeros_like(b)"
   ]
  },
  {
   "cell_type": "code",
   "execution_count": 9,
   "metadata": {},
   "outputs": [
    {
     "data": {
      "text/plain": [
       "array([[12, 12, 12, 12],\n",
       "       [12, 12, 12, 12],\n",
       "       [12, 12, 12, 12]])"
      ]
     },
     "execution_count": 9,
     "metadata": {},
     "output_type": "execute_result"
    }
   ],
   "source": [
    "np.full((3,4),12)"
   ]
  },
  {
   "cell_type": "code",
   "execution_count": 10,
   "metadata": {},
   "outputs": [
    {
     "data": {
      "text/plain": [
       "array([[1., 0., 0., 0., 0., 0., 0., 0., 0., 0., 0., 0., 0., 0., 0., 0.],\n",
       "       [0., 1., 0., 0., 0., 0., 0., 0., 0., 0., 0., 0., 0., 0., 0., 0.],\n",
       "       [0., 0., 1., 0., 0., 0., 0., 0., 0., 0., 0., 0., 0., 0., 0., 0.],\n",
       "       [0., 0., 0., 1., 0., 0., 0., 0., 0., 0., 0., 0., 0., 0., 0., 0.],\n",
       "       [0., 0., 0., 0., 1., 0., 0., 0., 0., 0., 0., 0., 0., 0., 0., 0.],\n",
       "       [0., 0., 0., 0., 0., 1., 0., 0., 0., 0., 0., 0., 0., 0., 0., 0.],\n",
       "       [0., 0., 0., 0., 0., 0., 1., 0., 0., 0., 0., 0., 0., 0., 0., 0.],\n",
       "       [0., 0., 0., 0., 0., 0., 0., 1., 0., 0., 0., 0., 0., 0., 0., 0.],\n",
       "       [0., 0., 0., 0., 0., 0., 0., 0., 1., 0., 0., 0., 0., 0., 0., 0.],\n",
       "       [0., 0., 0., 0., 0., 0., 0., 0., 0., 1., 0., 0., 0., 0., 0., 0.],\n",
       "       [0., 0., 0., 0., 0., 0., 0., 0., 0., 0., 1., 0., 0., 0., 0., 0.],\n",
       "       [0., 0., 0., 0., 0., 0., 0., 0., 0., 0., 0., 1., 0., 0., 0., 0.],\n",
       "       [0., 0., 0., 0., 0., 0., 0., 0., 0., 0., 0., 0., 1., 0., 0., 0.],\n",
       "       [0., 0., 0., 0., 0., 0., 0., 0., 0., 0., 0., 0., 0., 1., 0., 0.],\n",
       "       [0., 0., 0., 0., 0., 0., 0., 0., 0., 0., 0., 0., 0., 0., 1., 0.],\n",
       "       [0., 0., 0., 0., 0., 0., 0., 0., 0., 0., 0., 0., 0., 0., 0., 1.]])"
      ]
     },
     "execution_count": 10,
     "metadata": {},
     "output_type": "execute_result"
    }
   ],
   "source": [
    "np.eye(16)"
   ]
  },
  {
   "cell_type": "code",
   "execution_count": 12,
   "metadata": {},
   "outputs": [
    {
     "data": {
      "text/plain": [
       "array([[1., 0., 0., 0.],\n",
       "       [0., 1., 0., 0.],\n",
       "       [0., 0., 1., 0.],\n",
       "       [0., 0., 0., 1.]])"
      ]
     },
     "execution_count": 12,
     "metadata": {},
     "output_type": "execute_result"
    }
   ],
   "source": [
    "np.linalg.inv(np.eye(4))"
   ]
  },
  {
   "cell_type": "code",
   "execution_count": 13,
   "metadata": {},
   "outputs": [
    {
     "data": {
      "text/plain": [
       "array([ 1.23, -1.2 ])"
      ]
     },
     "execution_count": 13,
     "metadata": {},
     "output_type": "execute_result"
    }
   ],
   "source": [
    "n = np.array(['1.23','-1.2'], dtype=np.string_)\n",
    "n.astype(float)"
   ]
  },
  {
   "cell_type": "code",
   "execution_count": 14,
   "metadata": {},
   "outputs": [
    {
     "data": {
      "text/plain": [
       "array([b'1.23', b'-1.2'], dtype='|S4')"
      ]
     },
     "execution_count": 14,
     "metadata": {},
     "output_type": "execute_result"
    }
   ],
   "source": [
    "n"
   ]
  },
  {
   "cell_type": "code",
   "execution_count": 15,
   "metadata": {},
   "outputs": [
    {
     "name": "stdout",
     "output_type": "stream",
     "text": [
      "[[-0.41975808  0.86857594  0.17722016]\n",
      " [ 0.5206835   1.14888052  0.13683863]]\n",
      "[[-2.38232457  1.15130981  5.64269889]\n",
      " [ 1.92055251  0.87041253  7.30787777]]\n"
     ]
    }
   ],
   "source": [
    "e = np.random.randn(2,3)\n",
    "print(e)\n",
    "f = 1 /e\n",
    "print(f)"
   ]
  },
  {
   "cell_type": "code",
   "execution_count": 16,
   "metadata": {},
   "outputs": [
    {
     "data": {
      "text/plain": [
       "array([[-0.00502928,  2.05879277,  0.68432055],\n",
       "       [ 1.66040347,  2.81563703, -1.41470154]])"
      ]
     },
     "execution_count": 16,
     "metadata": {},
     "output_type": "execute_result"
    }
   ],
   "source": [
    "e - np.random.randn(2,3)"
   ]
  },
  {
   "cell_type": "code",
   "execution_count": 18,
   "metadata": {},
   "outputs": [
    {
     "name": "stdout",
     "output_type": "stream",
     "text": [
      "[2 3 4 5 6 7 8 9 0]\n",
      "[12 12]\n",
      "[ 2  3  4 12 66  7  8  9  0]\n"
     ]
    }
   ],
   "source": [
    "x = np.array([2,3,4,5,6,7,8,9,0])\n",
    "print(x)\n",
    "x[3:5] = 12\n",
    "y = x[3:5]\n",
    "print(y)\n",
    "y[1] = 66\n",
    "print(x)"
   ]
  },
  {
   "cell_type": "code",
   "execution_count": 20,
   "metadata": {},
   "outputs": [
    {
     "name": "stdout",
     "output_type": "stream",
     "text": [
      "[ 4 12 66] [ 2  3  4 12 66  7  8  9  0]\n",
      "[ 4 25 66] [ 2  3  4 12 66  7  8  9  0]\n"
     ]
    }
   ],
   "source": [
    "k = x[2:5].copy()\n",
    "print(k,x)\n",
    "k[1] = 25\n",
    "print(k,x)"
   ]
  },
  {
   "cell_type": "code",
   "execution_count": 30,
   "metadata": {},
   "outputs": [
    {
     "name": "stdout",
     "output_type": "stream",
     "text": [
      "3 dimension [[[ 1  2  3]\n",
      "  [ 4  5  6]]\n",
      "\n",
      " [[ 7  8  9]\n",
      "  [10 11 12]]]\n",
      "Get first depth [[1 2 3]\n",
      " [4 5 6]]\n",
      "show first depth, second row, third element 6\n"
     ]
    }
   ],
   "source": [
    "n = np.array([[[1,2,3],[4,5,6]],[[7,8,9],[10,11,12]]])\n",
    "print('3 dimension',n)\n",
    "print('Get first depth',n[0])\n",
    "print('show first depth, second row, third element',n[0,1,2])"
   ]
  },
  {
   "cell_type": "code",
   "execution_count": 27,
   "metadata": {},
   "outputs": [
    {
     "name": "stdout",
     "output_type": "stream",
     "text": [
      "2d array [[-1.73562356  2.51107654]\n",
      " [-1.25550422  3.15924845]\n",
      " [-0.2346154  -1.3344632 ]]\n",
      "Get 2 first rows [[-1.73562356  2.51107654]\n",
      " [-1.25550422  3.15924845]]\n"
     ]
    }
   ],
   "source": [
    "m = np.random.randn(3,2)\n",
    "print('2d array',m)\n",
    "print('Get 2 first rows',m[:2])"
   ]
  },
  {
   "cell_type": "code",
   "execution_count": 34,
   "metadata": {},
   "outputs": [
    {
     "name": "stdout",
     "output_type": "stream",
     "text": [
      "[[-0.17841254  0.03423592 -1.78414018]\n",
      " [-0.49836781 -0.73080482 -0.36950105]\n",
      " [-0.74861938 -0.27210261 -1.78820784]]\n",
      "\n",
      "[-0.49836781 -0.73080482] 2\n",
      "\n",
      "[[-0.49836781 -0.73080482]] 2\n"
     ]
    }
   ],
   "source": [
    "n = np.random.randn(3,3)\n",
    "print(n)\n",
    "print()\n",
    "print(n[1,:2],n[1,:2].size)\n",
    "print()\n",
    "print(n[1:2,:2],np.size(n[1:2,:2]))"
   ]
  },
  {
   "cell_type": "code",
   "execution_count": 39,
   "metadata": {},
   "outputs": [
    {
     "name": "stdout",
     "output_type": "stream",
     "text": [
      "[[ 0.33077255 -0.65564308 -0.84459322  0.88225753 -0.55803419  1.28850924\n",
      "   1.37593344]\n",
      " [-1.22238314 -0.28156909 -0.02213707  1.12641628 -0.04131128  0.59583817\n",
      "   0.97048144]\n",
      " [-2.09156564 -1.24161625  0.90513956  0.14718696 -1.121061   -0.09283679\n",
      "   1.78290084]\n",
      " [-0.64820456 -0.43559819  0.04955469  1.21635357 -0.21965375  0.18164246\n",
      "   0.77521107]\n",
      " [ 1.5054135  -0.30575013 -0.3505635   0.42182446  0.57211235 -0.25777353\n",
      "   0.09904505]\n",
      " [ 1.37755204 -0.17682649 -0.59023336  1.46016381 -1.4031355   0.67302429\n",
      "  -1.3099569 ]\n",
      " [ 0.49379862  1.33640865 -0.18170617  0.62090681 -0.80233611  1.22739183\n",
      "   0.44325001]]\n",
      "\n",
      "['bob' 'tre' 'xyz' 'bob' 'tyr' 'buew' 'tyer']\n",
      "\n",
      "[ True False False  True False False False]\n",
      "\n",
      "[[ 0.33077255 -0.65564308 -0.84459322  0.88225753 -0.55803419  1.28850924\n",
      "   1.37593344]\n",
      " [-0.64820456 -0.43559819  0.04955469  1.21635357 -0.21965375  0.18164246\n",
      "   0.77521107]]\n",
      "\n",
      "[[-0.84459322  0.88225753 -0.55803419  1.28850924  1.37593344]\n",
      " [ 0.04955469  1.21635357 -0.21965375  0.18164246  0.77521107]]\n"
     ]
    }
   ],
   "source": [
    "data = np.random.randn(7,7)\n",
    "print(data)\n",
    "print()\n",
    "names = np.array(('bob','tre','xyz','bob','tyr','buew','tyer'))\n",
    "print(names)\n",
    "print()\n",
    "n = names == 'bob'\n",
    "print(n)\n",
    "print()\n",
    "print(data[n])\n",
    "print()\n",
    "print(data[n,2:])"
   ]
  },
  {
   "cell_type": "code",
   "execution_count": 52,
   "metadata": {},
   "outputs": [
    {
     "name": "stdout",
     "output_type": "stream",
     "text": [
      "[[0.63030067 0.17016087 0.4634657  0.21671258]\n",
      " [0.48478838 0.15016927 0.24768958 0.97705894]\n",
      " [0.86467649 0.72043238 0.59826206 0.06008265]\n",
      " [0.03341353 0.95962901 0.96165004 0.02644337]\n",
      " [0.98190866 0.62346099 0.62121874 0.71953526]\n",
      " [0.69043386 0.69152698 0.88624195 0.46062424]\n",
      " [0.19571026 0.02208573 0.07771336 0.28250694]\n",
      " [0.56821587 0.97161712 0.34243974 0.82261957]]\n",
      "\n",
      "[0.48478838 0.59826206 0.71953526]\n"
     ]
    }
   ],
   "source": [
    "n = np.random.rand(8,4)\n",
    "print(n)\n",
    "print()\n",
    "print(n[[1,2,4],[0,2,3]])"
   ]
  },
  {
   "cell_type": "code",
   "execution_count": 53,
   "metadata": {},
   "outputs": [
    {
     "name": "stdout",
     "output_type": "stream",
     "text": [
      "[[-0.37781038  1.13647574  1.13028939  0.57963841]\n",
      " [ 1.11989823 -0.25909163  0.04042024 -0.31767318]\n",
      " [-0.05481429 -0.24476088 -0.40489063  0.98409774]\n",
      " [ 1.33207451 -0.74655638 -1.77932104 -0.18675632]]\n",
      "\n"
     ]
    },
    {
     "data": {
      "text/plain": [
       "array([[3, 2, 2, 2],\n",
       "       [2, 3, 2, 3],\n",
       "       [3, 3, 3, 2],\n",
       "       [2, 3, 3, 3]])"
      ]
     },
     "execution_count": 53,
     "metadata": {},
     "output_type": "execute_result"
    }
   ],
   "source": [
    "n = np.random.randn(4,4)\n",
    "print(n)\n",
    "print()\n",
    "np.where(n > 0, 2,3)"
   ]
  },
  {
   "cell_type": "code",
   "execution_count": 70,
   "metadata": {},
   "outputs": [
    {
     "data": {
      "text/plain": [
       "array([[ 1.00000000e+00,  1.66533454e-16,  2.77555756e-16,\n",
       "         1.38777878e-17],\n",
       "       [ 0.00000000e+00,  1.00000000e+00,  2.22044605e-16,\n",
       "         1.94289029e-16],\n",
       "       [ 0.00000000e+00,  1.11022302e-16,  1.00000000e+00,\n",
       "        -8.32667268e-17],\n",
       "       [ 1.38777878e-17,  1.38777878e-17,  2.77555756e-17,\n",
       "         1.00000000e+00]])"
      ]
     },
     "execution_count": 70,
     "metadata": {},
     "output_type": "execute_result"
    }
   ],
   "source": [
    "y = np.linalg.inv(n)\n",
    "np.dot(y, n)"
   ]
  },
  {
   "cell_type": "code",
   "execution_count": null,
   "metadata": {},
   "outputs": [],
   "source": []
  }
 ],
 "metadata": {
  "kernelspec": {
   "display_name": "Python 3",
   "language": "python",
   "name": "python3"
  },
  "language_info": {
   "codemirror_mode": {
    "name": "ipython",
    "version": 3
   },
   "file_extension": ".py",
   "mimetype": "text/x-python",
   "name": "python",
   "nbconvert_exporter": "python",
   "pygments_lexer": "ipython3",
   "version": "3.6.5"
  }
 },
 "nbformat": 4,
 "nbformat_minor": 2
}
