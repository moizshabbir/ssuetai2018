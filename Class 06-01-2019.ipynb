{
 "cells": [
  {
   "cell_type": "code",
   "execution_count": 11,
   "metadata": {},
   "outputs": [],
   "source": [
    "from keras import models\n",
    "from keras import layers\n",
    "from keras.datasets import mnist\n",
    "from keras.utils import to_categorical"
   ]
  },
  {
   "cell_type": "code",
   "execution_count": 3,
   "metadata": {},
   "outputs": [
    {
     "name": "stdout",
     "output_type": "stream",
     "text": [
      "Downloading data from https://s3.amazonaws.com/img-datasets/mnist.npz\n",
      "11493376/11490434 [==============================] - 98s 9us/step\n"
     ]
    }
   ],
   "source": [
    "\n",
    "(train_images, train_labels), (test_images, test_labels) = mnist.load_data()"
   ]
  },
  {
   "cell_type": "code",
   "execution_count": 4,
   "metadata": {},
   "outputs": [
    {
     "data": {
      "text/plain": [
       "(60000, 28, 28)"
      ]
     },
     "execution_count": 4,
     "metadata": {},
     "output_type": "execute_result"
    }
   ],
   "source": [
    "train_images.shape"
   ]
  },
  {
   "cell_type": "code",
   "execution_count": 5,
   "metadata": {},
   "outputs": [
    {
     "data": {
      "text/plain": [
       "array([5, 0, 4, ..., 5, 6, 8], dtype=uint8)"
      ]
     },
     "execution_count": 5,
     "metadata": {},
     "output_type": "execute_result"
    }
   ],
   "source": [
    "train_labels"
   ]
  },
  {
   "cell_type": "code",
   "execution_count": 6,
   "metadata": {},
   "outputs": [
    {
     "data": {
      "text/plain": [
       "10000"
      ]
     },
     "execution_count": 6,
     "metadata": {},
     "output_type": "execute_result"
    }
   ],
   "source": [
    "len(test_labels)"
   ]
  },
  {
   "cell_type": "code",
   "execution_count": 7,
   "metadata": {},
   "outputs": [],
   "source": [
    "network = models.Sequential()\n",
    "network.add(layers.Dense(512, activation='relu', input_shape=(28 * 28,)))\n",
    "network.add(layers.Dense(10, activation='softmax'))"
   ]
  },
  {
   "cell_type": "code",
   "execution_count": 8,
   "metadata": {},
   "outputs": [],
   "source": [
    "network.compile(optimizer='rmsprop',\n",
    "loss='categorical_crossentropy',\n",
    "metrics=['accuracy'])"
   ]
  },
  {
   "cell_type": "code",
   "execution_count": 9,
   "metadata": {},
   "outputs": [],
   "source": [
    "train_images = train_images.reshape((60000, 28 * 28))\n",
    "train_images = train_images.astype('float32') / 255\n",
    "test_images = test_images.reshape((10000, 28 * 28))\n",
    "test_images = test_images.astype('float32') / 255"
   ]
  },
  {
   "cell_type": "code",
   "execution_count": 12,
   "metadata": {},
   "outputs": [],
   "source": [
    "\n",
    "train_labels = to_categorical(train_labels)\n",
    "test_labels = to_categorical(test_labels)"
   ]
  },
  {
   "cell_type": "code",
   "execution_count": 16,
   "metadata": {},
   "outputs": [
    {
     "name": "stdout",
     "output_type": "stream",
     "text": [
      "Epoch 1/25\n",
      "60000/60000 [==============================] - 8s 132us/step - loss: 0.0341 - acc: 0.9895\n",
      "Epoch 2/25\n",
      "60000/60000 [==============================] - 8s 133us/step - loss: 0.0273 - acc: 0.9919\n",
      "Epoch 3/25\n",
      "60000/60000 [==============================] - 8s 132us/step - loss: 0.0210 - acc: 0.9938\n",
      "Epoch 4/25\n",
      "60000/60000 [==============================] - 8s 133us/step - loss: 0.0163 - acc: 0.9953\n",
      "Epoch 5/25\n",
      "60000/60000 [==============================] - 8s 133us/step - loss: 0.0134 - acc: 0.9958\n",
      "Epoch 6/25\n",
      "60000/60000 [==============================] - 8s 141us/step - loss: 0.0104 - acc: 0.9970\n",
      "Epoch 7/25\n",
      "60000/60000 [==============================] - 8s 141us/step - loss: 0.0085 - acc: 0.9974\n",
      "Epoch 8/25\n",
      "60000/60000 [==============================] - 8s 132us/step - loss: 0.0066 - acc: 0.9981\n",
      "Epoch 9/25\n",
      "60000/60000 [==============================] - 8s 128us/step - loss: 0.0064 - acc: 0.9981\n",
      "Epoch 10/25\n",
      "60000/60000 [==============================] - 8s 126us/step - loss: 0.0049 - acc: 0.9987\n",
      "Epoch 11/25\n",
      "60000/60000 [==============================] - 7s 125us/step - loss: 0.0040 - acc: 0.9989\n",
      "Epoch 12/25\n",
      "60000/60000 [==============================] - 8s 125us/step - loss: 0.0029 - acc: 0.9992\n",
      "Epoch 13/25\n",
      "60000/60000 [==============================] - 8s 125us/step - loss: 0.0032 - acc: 0.9992\n",
      "Epoch 14/25\n",
      "60000/60000 [==============================] - 7s 125us/step - loss: 0.0022 - acc: 0.9994\n",
      "Epoch 15/25\n",
      "60000/60000 [==============================] - 7s 124us/step - loss: 0.0022 - acc: 0.9994\n",
      "Epoch 16/25\n",
      "60000/60000 [==============================] - 8s 126us/step - loss: 0.0021 - acc: 0.9995\n",
      "Epoch 17/25\n",
      "60000/60000 [==============================] - 8s 126us/step - loss: 0.0017 - acc: 0.9996\n",
      "Epoch 18/25\n",
      "60000/60000 [==============================] - 8s 125us/step - loss: 0.0013 - acc: 0.9997\n",
      "Epoch 19/25\n",
      "60000/60000 [==============================] - 7s 125us/step - loss: 0.0010 - acc: 0.9998\n",
      "Epoch 20/25\n",
      "60000/60000 [==============================] - 8s 130us/step - loss: 0.0011 - acc: 0.9998\n",
      "Epoch 21/25\n",
      "60000/60000 [==============================] - 8s 126us/step - loss: 8.9508e-04 - acc: 0.9999\n",
      "Epoch 22/25\n",
      "60000/60000 [==============================] - 8s 126us/step - loss: 9.0076e-04 - acc: 0.9998\n",
      "Epoch 23/25\n",
      "60000/60000 [==============================] - 7s 125us/step - loss: 7.8868e-04 - acc: 0.9999\n",
      "Epoch 24/25\n",
      "60000/60000 [==============================] - 8s 126us/step - loss: 8.7801e-04 - acc: 0.9998\n",
      "Epoch 25/25\n",
      "60000/60000 [==============================] - 8s 126us/step - loss: 7.1968e-04 - acc: 0.9999\n"
     ]
    },
    {
     "data": {
      "text/plain": [
       "<keras.callbacks.History at 0x10dcff17e10>"
      ]
     },
     "execution_count": 16,
     "metadata": {},
     "output_type": "execute_result"
    }
   ],
   "source": [
    "network.fit(train_images, train_labels, epochs=25, batch_size=64)"
   ]
  },
  {
   "cell_type": "code",
   "execution_count": 17,
   "metadata": {},
   "outputs": [
    {
     "name": "stdout",
     "output_type": "stream",
     "text": [
      "10000/10000 [==============================] - 1s 58us/step\n"
     ]
    }
   ],
   "source": [
    "test_loss, test_acc = network.evaluate(test_images, test_labels)"
   ]
  },
  {
   "cell_type": "code",
   "execution_count": 18,
   "metadata": {},
   "outputs": [
    {
     "name": "stdout",
     "output_type": "stream",
     "text": [
      "test_acc: 0.9825\n"
     ]
    }
   ],
   "source": [
    "print('test_acc:', test_acc)"
   ]
  },
  {
   "cell_type": "code",
   "execution_count": null,
   "metadata": {},
   "outputs": [],
   "source": []
  }
 ],
 "metadata": {
  "kernelspec": {
   "display_name": "Python 3",
   "language": "python",
   "name": "python3"
  },
  "language_info": {
   "codemirror_mode": {
    "name": "ipython",
    "version": 3
   },
   "file_extension": ".py",
   "mimetype": "text/x-python",
   "name": "python",
   "nbconvert_exporter": "python",
   "pygments_lexer": "ipython3",
   "version": "3.6.5"
  }
 },
 "nbformat": 4,
 "nbformat_minor": 2
}
