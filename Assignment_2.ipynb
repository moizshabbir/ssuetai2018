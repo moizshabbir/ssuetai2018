{
 "cells": [
  {
   "cell_type": "markdown",
   "metadata": {},
   "source": [
    "<h3>Q no 1:  Write a python program to find number of occurrences of given number in a list with out using built-in methods</h3>\n",
    "<h4>**1 generate a list of some random num which is repeated again and again</h4>\n",
    "<h4>**2 take user input any number</h4>\n",
    "<h4>**3 find the number of occurrences of that num in your list</h4>\n",
    "<h4>**4 print some message to user with that result</h4>"
   ]
  },
  {
   "cell_type": "code",
   "execution_count": 1,
   "metadata": {},
   "outputs": [
    {
     "name": "stdout",
     "output_type": "stream",
     "text": [
      "Input any number:2\n"
     ]
    }
   ],
   "source": [
    "numbers = [1,2,1,4,1,2,5,6]\n",
    "user_num = int(input(\"Input any number:\"))"
   ]
  },
  {
   "cell_type": "code",
   "execution_count": 2,
   "metadata": {},
   "outputs": [
    {
     "name": "stdout",
     "output_type": "stream",
     "text": [
      "The number 2, occur 2 times in the list [1, 2, 1, 4, 1, 2, 5, 6]\n"
     ]
    }
   ],
   "source": [
    "count = 0\n",
    "if user_num:\n",
    "    for number in numbers:\n",
    "        if number == user_num:\n",
    "            count +=1\n",
    "    print(\"The number {}, occur {} times in the list {}\".format(user_num, count, numbers))\n",
    "else:\n",
    "    print(\"No input number entered\")\n"
   ]
  },
  {
   "cell_type": "markdown",
   "metadata": {},
   "source": [
    "<h3>Q no 2:   [\"www.zframez.com\", \"www.wikipedia.org\", \"www.asp.net\", \"www.abcd.in\"]\n",
    "<br/><br/><br/><br/><br/>\n",
    "Write a python program to print website suffixes (com , org , net ,in) from this list\n",
    "</h3>"
   ]
  },
  {
   "cell_type": "code",
   "execution_count": 3,
   "metadata": {},
   "outputs": [],
   "source": [
    "websites = [\"www.zframez.com\", \"www.wikipedia.org\", \"www.asp.net\", \"www.abcd.in\"]"
   ]
  },
  {
   "cell_type": "code",
   "execution_count": 4,
   "metadata": {},
   "outputs": [
    {
     "name": "stdout",
     "output_type": "stream",
     "text": [
      "Websites:  ['www.zframez.com', 'www.wikipedia.org', 'www.asp.net', 'www.abcd.in']\n",
      "Website Suffixes:  ['com', 'org', 'net', 'in']\n"
     ]
    }
   ],
   "source": [
    "print(\"Websites: \",websites)\n",
    "suffix = [];\n",
    "for site in websites:\n",
    "    suffix.append(site.split('.').pop())\n",
    "print(\"Website Suffixes: \",suffix)"
   ]
  },
  {
   "cell_type": "markdown",
   "metadata": {},
   "source": [
    "<h3> Q no 3 : Write a program which can compute the factorial of a given numbers.</h3>\n",
    "<br/>\n",
    "<br/>\n",
    "<h4>**1 first take user input any number</h4>\n",
    "<h4>**2 calculate factorial of that input and then print the result to user</h4>"
   ]
  },
  {
   "cell_type": "code",
   "execution_count": 5,
   "metadata": {},
   "outputs": [
    {
     "name": "stdout",
     "output_type": "stream",
     "text": [
      "Enter any number: 10\n"
     ]
    }
   ],
   "source": [
    "number = int(input(\"Enter any number: \"))"
   ]
  },
  {
   "cell_type": "code",
   "execution_count": 6,
   "metadata": {},
   "outputs": [
    {
     "data": {
      "text/plain": [
       "range(1, 11)"
      ]
     },
     "execution_count": 6,
     "metadata": {},
     "output_type": "execute_result"
    }
   ],
   "source": [
    "factorialList = range(1,(number+1))\n",
    "factorialList"
   ]
  },
  {
   "cell_type": "code",
   "execution_count": 7,
   "metadata": {},
   "outputs": [],
   "source": [
    "factorial = 1\n",
    "for factorialNumber in factorialList:\n",
    "    factorial *= factorialNumber"
   ]
  },
  {
   "cell_type": "code",
   "execution_count": 8,
   "metadata": {},
   "outputs": [
    {
     "name": "stdout",
     "output_type": "stream",
     "text": [
      "Factorial of number 10 is 3628800\n"
     ]
    }
   ],
   "source": [
    "print(\"Factorial of number {} is {}\".format(number,factorial))"
   ]
  },
  {
   "cell_type": "markdown",
   "metadata": {},
   "source": [
    "<h3>Q 4 (a) :  If you could invite anyone, living or deceased, to dinner, who\n",
    "would you invite? Make a list that includes at least three people you’d like to\n",
    "invite to dinner. Then use your list to print a message to each person, inviting\n",
    "them to dinner.</h3>"
   ]
  },
  {
   "cell_type": "code",
   "execution_count": 9,
   "metadata": {},
   "outputs": [],
   "source": [
    "guests = [\"Moiz\",\"Shabbir\",\"Husain\"]"
   ]
  },
  {
   "cell_type": "code",
   "execution_count": 10,
   "metadata": {},
   "outputs": [
    {
     "name": "stdout",
     "output_type": "stream",
     "text": [
      "Hi Moiz,\n",
      "You are invited to dinner at 8 PM\n",
      "\n",
      "\n",
      "Hi Shabbir,\n",
      "You are invited to dinner at 8 PM\n",
      "\n",
      "\n",
      "Hi Husain,\n",
      "You are invited to dinner at 8 PM\n",
      "\n",
      "\n"
     ]
    }
   ],
   "source": [
    "for guest in guests:\n",
    "    print(\"Hi {},\\nYou are invited to dinner at 8 PM\\n\\n\".format(guest))"
   ]
  },
  {
   "cell_type": "code",
   "execution_count": null,
   "metadata": {},
   "outputs": [],
   "source": []
  },
  {
   "cell_type": "markdown",
   "metadata": {},
   "source": [
    "<h3>Q 4 (b) : You just heard that one of your guests can’t make the\n",
    "dinner, so you need to send out a new set of invitations. You’ll have to think of\n",
    "someone else to invite.<br/></br><br/>\n",
    "•\t Start with your program from Q 4 (a). Add a print statement at the\n",
    "end of your program stating the name of the guest who can’t make it.<br/></br><br/>\n",
    "•\t Modify your list, replacing the name of the guest who can’t make it with\n",
    "the name of the new person you are inviting.<br/></br><br/>\n",
    "•\t Print a second set of invitation messages, one for each person who is still\n",
    "in your list.<br/></br><br/></h3>"
   ]
  },
  {
   "cell_type": "code",
   "execution_count": 11,
   "metadata": {},
   "outputs": [],
   "source": [
    "not_comming = guests[1]"
   ]
  },
  {
   "cell_type": "code",
   "execution_count": 12,
   "metadata": {},
   "outputs": [],
   "source": [
    "guests[1] = \"Junaid\""
   ]
  },
  {
   "cell_type": "code",
   "execution_count": 13,
   "metadata": {},
   "outputs": [
    {
     "name": "stdout",
     "output_type": "stream",
     "text": [
      "Hi Moiz,\n",
      "You are invited to dinner at 8 PM\n",
      "\n",
      "\n",
      "Hi Junaid,\n",
      "You are invited to dinner at 8 PM\n",
      "\n",
      "\n",
      "Hi Husain,\n",
      "You are invited to dinner at 8 PM\n",
      "\n",
      "\n",
      "Mr. Shabbir will not be able to attend the dinner\n"
     ]
    }
   ],
   "source": [
    "for guest in guests:\n",
    "    print(\"Hi {},\\nYou are invited to dinner at 8 PM\\n\\n\".format(guest))\n",
    "print(\"Mr. {} will not be able to attend the dinner\".format(not_comming))"
   ]
  },
  {
   "cell_type": "markdown",
   "metadata": {},
   "source": [
    "<h3>Q 4 (c) : You just found a bigger dinner table, so now more space is\n",
    "available. Think of three more guests to invite to dinner.<br/></br><br/>\n",
    "•\t Start with your program from Q 4 (a) and (b) Add a print\n",
    "statement to the end of your program informing people that you found a\n",
    "bigger dinner table.<br/></br><br/>\n",
    "•\t Use insert() to add one new guest to the beginning of your list.<br/></br><br/>\n",
    "•\t Use insert() to add one new guest to the middle of your list.<br/></br><br/>\n",
    "•\t Use append() to add one new guest to the end of your list.<br/></br><br/>\n",
    "•\t Print a new set of invitation messages, one for each person in your list.<br/></br><br/></h3>"
   ]
  },
  {
   "cell_type": "code",
   "execution_count": 14,
   "metadata": {},
   "outputs": [],
   "source": [
    "oldGuests = guests[:]"
   ]
  },
  {
   "cell_type": "code",
   "execution_count": 15,
   "metadata": {},
   "outputs": [],
   "source": [
    "guests.insert(0,\"Mohammad\")\n",
    "guests.insert(2, \"Qasim\")\n",
    "guests.append(\"Naeem\")"
   ]
  },
  {
   "cell_type": "code",
   "execution_count": 16,
   "metadata": {},
   "outputs": [
    {
     "name": "stdout",
     "output_type": "stream",
     "text": [
      "Hi Mohammad,\n",
      "You are invited to dinner at 8 PM\n",
      "\n",
      "\n",
      "Hi Moiz,\n",
      "You are invited to dinner at 8 PM\n",
      "\n",
      "\n",
      "Hi Qasim,\n",
      "You are invited to dinner at 8 PM\n",
      "\n",
      "\n",
      "Hi Junaid,\n",
      "You are invited to dinner at 8 PM\n",
      "\n",
      "\n",
      "Hi Husain,\n",
      "You are invited to dinner at 8 PM\n",
      "\n",
      "\n",
      "Hi Naeem,\n",
      "You are invited to dinner at 8 PM\n",
      "\n",
      "\n",
      "I have got the bigger table so more people are invited to dinner\n"
     ]
    }
   ],
   "source": [
    "for guest in guests:\n",
    "    print(\"Hi {},\\nYou are invited to dinner at 8 PM\\n\\n\".format(guest))\n",
    "print(\"I have got the bigger table so more people are invited to dinner\")"
   ]
  },
  {
   "cell_type": "markdown",
   "metadata": {},
   "source": [
    "<h5> Q 5 : Here you have some data in variable below, your task is to make a list of specific word Surah then print the list and length of list</h5>\n"
   ]
  },
  {
   "cell_type": "code",
   "execution_count": 17,
   "metadata": {},
   "outputs": [],
   "source": [
    "data = \"Sura I Who believe in the Unseen, Sura Are steadfast in prayer, And spend Sura out of what We Have provided for them;\"\n"
   ]
  },
  {
   "cell_type": "code",
   "execution_count": 18,
   "metadata": {},
   "outputs": [],
   "source": [
    "suraWords = []\n",
    "index = 0\n",
    "while data.find(\"Sura\", index) != -1:\n",
    "    index = data.index(\"Sura\",index)\n",
    "    suraWords.append(data[index:index+4])\n",
    "    index += 4\n",
    "suralen = len(suraWords)"
   ]
  },
  {
   "cell_type": "code",
   "execution_count": 19,
   "metadata": {},
   "outputs": [
    {
     "name": "stdout",
     "output_type": "stream",
     "text": [
      "['Sura', 'Sura', 'Sura']\n",
      "3\n"
     ]
    }
   ],
   "source": [
    "print(suraWords)\n",
    "print(suralen)"
   ]
  },
  {
   "cell_type": "code",
   "execution_count": null,
   "metadata": {},
   "outputs": [],
   "source": []
  }
 ],
 "metadata": {
  "kernelspec": {
   "display_name": "Python 3",
   "language": "python",
   "name": "python3"
  },
  "language_info": {
   "codemirror_mode": {
    "name": "ipython",
    "version": 3
   },
   "file_extension": ".py",
   "mimetype": "text/x-python",
   "name": "python",
   "nbconvert_exporter": "python",
   "pygments_lexer": "ipython3",
   "version": "3.6.5"
  }
 },
 "nbformat": 4,
 "nbformat_minor": 2
}
