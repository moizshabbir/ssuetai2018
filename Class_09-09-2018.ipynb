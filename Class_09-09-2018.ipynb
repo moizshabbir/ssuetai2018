{
 "cells": [
  {
   "cell_type": "code",
   "execution_count": 2,
   "metadata": {},
   "outputs": [
    {
     "data": {
      "text/plain": [
       "28"
      ]
     },
     "execution_count": 2,
     "metadata": {},
     "output_type": "execute_result"
    }
   ],
   "source": [
    "def add_numbers(first, second):\n",
    "    return first + second\n",
    "def sub_numbers(first, second):\n",
    "    return first - second\n",
    "add = add_numbers(10,20)\n",
    "sub = sub_numbers(2, 4)\n",
    "total = add + sub\n",
    "total"
   ]
  },
  {
   "cell_type": "code",
   "execution_count": 4,
   "metadata": {},
   "outputs": [
    {
     "data": {
      "text/plain": [
       "-1"
      ]
     },
     "execution_count": 4,
     "metadata": {},
     "output_type": "execute_result"
    }
   ],
   "source": [
    "total = add_numbers(4,5) + sub_numbers(10,20)\n",
    "total"
   ]
  },
  {
   "cell_type": "code",
   "execution_count": 5,
   "metadata": {},
   "outputs": [
    {
     "data": {
      "text/plain": [
       "32"
      ]
     },
     "execution_count": 5,
     "metadata": {},
     "output_type": "execute_result"
    }
   ],
   "source": [
    "total = add_numbers(add_numbers(5,29), sub_numbers(8,10))\n",
    "total"
   ]
  },
  {
   "cell_type": "code",
   "execution_count": 11,
   "metadata": {},
   "outputs": [
    {
     "name": "stdout",
     "output_type": "stream",
     "text": [
      "6\n"
     ]
    },
    {
     "data": {
      "text/plain": [
       "6"
      ]
     },
     "execution_count": 11,
     "metadata": {},
     "output_type": "execute_result"
    }
   ],
   "source": [
    "glVar = 10\n",
    "def print_something():\n",
    "    global glVar\n",
    "    glVar = 6\n",
    "    print(glVar)\n",
    "print_something()\n",
    "glVar"
   ]
  },
  {
   "cell_type": "code",
   "execution_count": 12,
   "metadata": {},
   "outputs": [
    {
     "name": "stdout",
     "output_type": "stream",
     "text": [
      "6\n"
     ]
    },
    {
     "data": {
      "text/plain": [
       "10"
      ]
     },
     "execution_count": 12,
     "metadata": {},
     "output_type": "execute_result"
    }
   ],
   "source": [
    "glVar = 10\n",
    "def print_something():\n",
    "    #global glVar\n",
    "    glVar = 6\n",
    "    print(glVar)\n",
    "print_something()\n",
    "glVar"
   ]
  },
  {
   "cell_type": "code",
   "execution_count": 15,
   "metadata": {},
   "outputs": [
    {
     "name": "stdout",
     "output_type": "stream",
     "text": [
      "WallClockTime is :12pm\n",
      "WristWatchTime is :12pm\n",
      "WallClockTime is :1:30pm\n",
      "myWristWatchTime is :2pm\n",
      "1:30pm\n"
     ]
    }
   ],
   "source": [
    "wallClock = \"1:30pm\"\n",
    "def setWristWatch(newTime):\n",
    "    wristWatchTime = newTime\n",
    "    wallClock = newTime\n",
    "    print(\"WallClockTime is :\"+ wallClock)\n",
    "    print(\"WristWatchTime is :\"+ wristWatchTime)\n",
    "    \n",
    "def setMyWristWatch(newTime):\n",
    "    myWristWatchTime = newTime\n",
    "    print(\"WallClockTime is :\"+ wallClock)\n",
    "    print(\"myWristWatchTime is :\"+ myWristWatchTime)\n",
    "    \n",
    "setWristWatch(\"12pm\")\n",
    "setMyWristWatch(\"2pm\")\n",
    "print(wallClock)"
   ]
  },
  {
   "cell_type": "code",
   "execution_count": 19,
   "metadata": {},
   "outputs": [
    {
     "name": "stdout",
     "output_type": "stream",
     "text": [
      "WallClockTime is :12pm1:30pm\n",
      "WristWatchTime is :12pm\n",
      "WallClockTime is :12pm1:30pm\n",
      "myWristWatchTime is :2pm\n",
      "12pm1:30pm\n"
     ]
    }
   ],
   "source": [
    "wallClock = \"1:30pm\"\n",
    "def setWristWatch(newTime):\n",
    "    global wallClock\n",
    "    wristWatchTime = newTime\n",
    "    wallClock = newTime + wallClock\n",
    "    print(\"WallClockTime is :\"+ wallClock)\n",
    "    print(\"WristWatchTime is :\"+ wristWatchTime)\n",
    "    \n",
    "def setMyWristWatch(newTime):\n",
    "    myWristWatchTime = newTime\n",
    "    print(\"WallClockTime is :\"+ wallClock)\n",
    "    print(\"myWristWatchTime is :\"+ myWristWatchTime)\n",
    "    \n",
    "setWristWatch(\"12pm\")\n",
    "setMyWristWatch(\"2pm\")\n",
    "print(wallClock)"
   ]
  },
  {
   "cell_type": "code",
   "execution_count": 21,
   "metadata": {},
   "outputs": [
    {
     "name": "stdout",
     "output_type": "stream",
     "text": [
      "WallClockTime is :12pm\n",
      "WristWatchTime is :12pm\n",
      "WallClockTime is :1:00pm\n",
      "myWristWatchTime is :2pm\n",
      "5pm\n"
     ]
    }
   ],
   "source": [
    "wallClock = \"1:30pm\"\n",
    "def setWristWatch(newTime):\n",
    "    wristWatchTime = newTime\n",
    "    wallClock = newTime\n",
    "    print(\"WallClockTime is :\"+ wallClock)\n",
    "    print(\"WristWatchTime is :\"+ wristWatchTime)\n",
    "    \n",
    "def setMyWristWatch(newTime):\n",
    "    myWristWatchTime = newTime\n",
    "    print(\"WallClockTime is :\"+ wallClock)\n",
    "    print(\"myWristWatchTime is :\"+ myWristWatchTime)\n",
    "\n",
    "wallClock = \"1:00pm\"\n",
    "setWristWatch(\"12pm\")\n",
    "setMyWristWatch(\"2pm\")\n",
    "wallClock = \"5pm\"\n",
    "print(wallClock)"
   ]
  },
  {
   "cell_type": "code",
   "execution_count": 23,
   "metadata": {},
   "outputs": [
    {
     "name": "stdout",
     "output_type": "stream",
     "text": [
      "20\n"
     ]
    },
    {
     "data": {
      "text/plain": [
       "405.6666666666667"
      ]
     },
     "execution_count": 23,
     "metadata": {},
     "output_type": "execute_result"
    }
   ],
   "source": [
    "def calc(a):\n",
    "    print(a)\n",
    "    b = 12\n",
    "    c = 404\n",
    "    result = (a / b) + c\n",
    "    return result\n",
    "calc(20)"
   ]
  },
  {
   "cell_type": "code",
   "execution_count": 25,
   "metadata": {},
   "outputs": [
    {
     "ename": "NameError",
     "evalue": "name 'x' is not defined",
     "output_type": "error",
     "traceback": [
      "\u001b[1;31m---------------------------------------------------------------------------\u001b[0m",
      "\u001b[1;31mNameError\u001b[0m                                 Traceback (most recent call last)",
      "\u001b[1;32m<ipython-input-25-90cbd3b822c8>\u001b[0m in \u001b[0;36m<module>\u001b[1;34m()\u001b[0m\n\u001b[0;32m      2\u001b[0m     \u001b[0mx\u001b[0m \u001b[1;33m=\u001b[0m \u001b[1;36m10\u001b[0m\u001b[1;33m\u001b[0m\u001b[0m\n\u001b[0;32m      3\u001b[0m \u001b[0ma\u001b[0m\u001b[1;33m(\u001b[0m\u001b[1;33m)\u001b[0m\u001b[1;33m\u001b[0m\u001b[0m\n\u001b[1;32m----> 4\u001b[1;33m \u001b[0mprint\u001b[0m\u001b[1;33m(\u001b[0m\u001b[0mx\u001b[0m\u001b[1;33m)\u001b[0m\u001b[1;33m\u001b[0m\u001b[0m\n\u001b[0m",
      "\u001b[1;31mNameError\u001b[0m: name 'x' is not defined"
     ]
    }
   ],
   "source": [
    "def a():\n",
    "    x = 10\n",
    "a()\n",
    "print(x)"
   ]
  },
  {
   "cell_type": "code",
   "execution_count": 32,
   "metadata": {},
   "outputs": [
    {
     "data": {
      "text/plain": [
       "200"
      ]
     },
     "execution_count": 32,
     "metadata": {},
     "output_type": "execute_result"
    }
   ],
   "source": [
    "def x():\n",
    "    x = 10\n",
    "    def y(m):\n",
    "        return x * m\n",
    "    return y(20)\n",
    "x()"
   ]
  },
  {
   "cell_type": "code",
   "execution_count": 31,
   "metadata": {},
   "outputs": [
    {
     "ename": "NameError",
     "evalue": "name 'u' is not defined",
     "output_type": "error",
     "traceback": [
      "\u001b[1;31m---------------------------------------------------------------------------\u001b[0m",
      "\u001b[1;31mNameError\u001b[0m                                 Traceback (most recent call last)",
      "\u001b[1;32m<ipython-input-31-9b9846005415>\u001b[0m in \u001b[0;36m<module>\u001b[1;34m()\u001b[0m\n\u001b[0;32m      4\u001b[0m \u001b[1;32mdef\u001b[0m \u001b[0mm\u001b[0m\u001b[1;33m(\u001b[0m\u001b[0mx\u001b[0m\u001b[1;33m)\u001b[0m\u001b[1;33m:\u001b[0m\u001b[1;33m\u001b[0m\u001b[0m\n\u001b[0;32m      5\u001b[0m     \u001b[1;32mreturn\u001b[0m \u001b[0mu\u001b[0m \u001b[1;33m*\u001b[0m \u001b[0mx\u001b[0m\u001b[1;33m\u001b[0m\u001b[0m\n\u001b[1;32m----> 6\u001b[1;33m \u001b[0ma\u001b[0m\u001b[1;33m(\u001b[0m\u001b[1;33m)\u001b[0m\u001b[1;33m\u001b[0m\u001b[0m\n\u001b[0m",
      "\u001b[1;32m<ipython-input-31-9b9846005415>\u001b[0m in \u001b[0;36ma\u001b[1;34m()\u001b[0m\n\u001b[0;32m      1\u001b[0m \u001b[1;32mdef\u001b[0m \u001b[0ma\u001b[0m\u001b[1;33m(\u001b[0m\u001b[1;33m)\u001b[0m\u001b[1;33m:\u001b[0m\u001b[1;33m\u001b[0m\u001b[0m\n\u001b[0;32m      2\u001b[0m     \u001b[0mu\u001b[0m \u001b[1;33m=\u001b[0m \u001b[1;36m30\u001b[0m\u001b[1;33m\u001b[0m\u001b[0m\n\u001b[1;32m----> 3\u001b[1;33m     \u001b[1;32mreturn\u001b[0m \u001b[0mm\u001b[0m\u001b[1;33m(\u001b[0m\u001b[1;36m10\u001b[0m\u001b[1;33m)\u001b[0m\u001b[1;33m\u001b[0m\u001b[0m\n\u001b[0m\u001b[0;32m      4\u001b[0m \u001b[1;32mdef\u001b[0m \u001b[0mm\u001b[0m\u001b[1;33m(\u001b[0m\u001b[0mx\u001b[0m\u001b[1;33m)\u001b[0m\u001b[1;33m:\u001b[0m\u001b[1;33m\u001b[0m\u001b[0m\n\u001b[0;32m      5\u001b[0m     \u001b[1;32mreturn\u001b[0m \u001b[0mu\u001b[0m \u001b[1;33m*\u001b[0m \u001b[0mx\u001b[0m\u001b[1;33m\u001b[0m\u001b[0m\n",
      "\u001b[1;32m<ipython-input-31-9b9846005415>\u001b[0m in \u001b[0;36mm\u001b[1;34m(x)\u001b[0m\n\u001b[0;32m      3\u001b[0m     \u001b[1;32mreturn\u001b[0m \u001b[0mm\u001b[0m\u001b[1;33m(\u001b[0m\u001b[1;36m10\u001b[0m\u001b[1;33m)\u001b[0m\u001b[1;33m\u001b[0m\u001b[0m\n\u001b[0;32m      4\u001b[0m \u001b[1;32mdef\u001b[0m \u001b[0mm\u001b[0m\u001b[1;33m(\u001b[0m\u001b[0mx\u001b[0m\u001b[1;33m)\u001b[0m\u001b[1;33m:\u001b[0m\u001b[1;33m\u001b[0m\u001b[0m\n\u001b[1;32m----> 5\u001b[1;33m     \u001b[1;32mreturn\u001b[0m \u001b[0mu\u001b[0m \u001b[1;33m*\u001b[0m \u001b[0mx\u001b[0m\u001b[1;33m\u001b[0m\u001b[0m\n\u001b[0m\u001b[0;32m      6\u001b[0m \u001b[0ma\u001b[0m\u001b[1;33m(\u001b[0m\u001b[1;33m)\u001b[0m\u001b[1;33m\u001b[0m\u001b[0m\n",
      "\u001b[1;31mNameError\u001b[0m: name 'u' is not defined"
     ]
    }
   ],
   "source": [
    "def a():\n",
    "    u = 30\n",
    "    return m(10)\n",
    "def m(x):\n",
    "    return u * x\n",
    "a()"
   ]
  },
  {
   "cell_type": "code",
   "execution_count": 33,
   "metadata": {},
   "outputs": [
    {
     "name": "stdout",
     "output_type": "stream",
     "text": [
      "1\n",
      "2\n",
      "3\n",
      "4\n",
      "5\n"
     ]
    }
   ],
   "source": [
    "cnum = 1\n",
    "while cnum <= 5:\n",
    "    print(cnum)\n",
    "    cnum+=1"
   ]
  },
  {
   "cell_type": "code",
   "execution_count": 37,
   "metadata": {},
   "outputs": [
    {
     "name": "stdout",
     "output_type": "stream",
     "text": [
      " Tell me something i'll repeat to you:\n",
      " To exit from enter `quit` wordTest\n",
      "test\n",
      " Tell me something i'll repeat to you:\n",
      " To exit from enter `quit` wordnew\n",
      "new\n",
      " Tell me something i'll repeat to you:\n",
      " To exit from enter `quit` wordquit\n",
      "quit\n"
     ]
    }
   ],
   "source": [
    "prompt = \" Tell me something i'll repeat to you:\\n\"\n",
    "prompt += \" To exit from enter `quit` word\"\n",
    "message = \"\"\n",
    "while message != 'quit':\n",
    "    message = input(prompt).lower()\n",
    "    print(message)\n"
   ]
  },
  {
   "cell_type": "code",
   "execution_count": 38,
   "metadata": {},
   "outputs": [
    {
     "name": "stdout",
     "output_type": "stream",
     "text": [
      "Enter a name of the city, or press q to terminate the programkarachi\n",
      "It's one of the cleanest city karachi\n",
      "Enter a name of the city, or press q to terminate the programq\n",
      "It's not a cleanest city\n"
     ]
    }
   ],
   "source": [
    "CleanCity = ['karachi', 'santa Fe', 'Tucson', 'Great Falls']\n",
    "userInput = \"\"\n",
    "while userInput != 'q':\n",
    "    userInput = input(\"Enter a name of the city, or press q to terminate the program\")\n",
    "    if(userInput != 'q'):\n",
    "        for City in CleanCity:\n",
    "            if userInput == City:\n",
    "                print(\"It's one of the cleanest city\", userInput)\n",
    "                break\n",
    "    else:\n",
    "        print(\"It's not a cleanest city\")\n",
    "        break"
   ]
  },
  {
   "cell_type": "code",
   "execution_count": 39,
   "metadata": {},
   "outputs": [
    {
     "name": "stdout",
     "output_type": "stream",
     "text": [
      "Enter a name of the city, or press q to terminate the programTest\n",
      "Enter a name of the city, or press q to terminate the programnew\n",
      "Enter a name of the city, or press q to terminate the programwhat the hell\n",
      "Enter a name of the city, or press q to terminate the programkarachi\n",
      "It's one of the cleanest city karachi\n",
      "Enter a name of the city, or press q to terminate the programq\n",
      "It's not a cleanest city\n"
     ]
    }
   ],
   "source": [
    "CleanCity = ['karachi', 'santa Fe', 'Tucson', 'Great Falls']\n",
    "userInput = \"\"\n",
    "while True:\n",
    "    userInput = input(\"Enter a name of the city, or press q to terminate the program\")\n",
    "    if(userInput != 'q'):\n",
    "        for City in CleanCity:\n",
    "            if userInput == City:\n",
    "                print(\"It's one of the cleanest city\", userInput)\n",
    "                break\n",
    "    else:\n",
    "        print(\"It's not a cleanest city\")\n",
    "        break"
   ]
  },
  {
   "cell_type": "code",
   "execution_count": 42,
   "metadata": {},
   "outputs": [
    {
     "name": "stdout",
     "output_type": "stream",
     "text": [
      "2\n",
      "4\n",
      "6\n",
      "8\n",
      "10\n"
     ]
    }
   ],
   "source": [
    "cnum = 0\n",
    "while cnum < 10:\n",
    "    cnum +=1\n",
    "    if cnum %2 != 0:\n",
    "        continue\n",
    "    print(cnum)"
   ]
  },
  {
   "cell_type": "code",
   "execution_count": 48,
   "metadata": {},
   "outputs": [
    {
     "name": "stdout",
     "output_type": "stream",
     "text": [
      "Enter an user Age for ticket, or enter exit to terminate the program: 10\n",
      "Your ticket cost is 10\n",
      "Enter an user Age for ticket, or enter exit to terminate the program: 3\n",
      "Your ticket cost is 10\n",
      "Enter an user Age for ticket, or enter exit to terminate the program: 2\n",
      "Your ticket is free\n",
      "Enter an user Age for ticket, or enter exit to terminate the program: 12\n",
      "Your ticket cost is 10\n",
      "Enter an user Age for ticket, or enter exit to terminate the program: 15\n",
      "Your ticket cost is 15\n",
      "Enter an user Age for ticket, or enter exit to terminate the program: exit\n",
      "Total Ticket price is:  45\n"
     ]
    }
   ],
   "source": [
    "userInput = \"\"\n",
    "total = 0\n",
    "while True:\n",
    "    price = 0\n",
    "    userInput = (input(\"Enter an user Age for ticket, or enter exit to terminate the program: \"))\n",
    "    if(userInput != 'exit'):\n",
    "        age = int(userInput);\n",
    "        if(age < 3):\n",
    "            price = 0\n",
    "            print(\"Your ticket is free\")\n",
    "        elif(age >= 3 and age <= 12):\n",
    "            price = 10\n",
    "            print(\"Your ticket cost is\", price)\n",
    "        elif(age > 12):\n",
    "            price = 15\n",
    "            print(\"Your ticket cost is\", price)\n",
    "        total += price\n",
    "    else: \n",
    "        print(\"Total Ticket cost is: \", total)\n",
    "        break;"
   ]
  },
  {
   "cell_type": "code",
   "execution_count": 51,
   "metadata": {},
   "outputs": [
    {
     "name": "stdout",
     "output_type": "stream",
     "text": [
      "True\n",
      "False\n"
     ]
    }
   ],
   "source": [
    "for u in [True, False, True]:\n",
    "    print(u)\n",
    "    if not u:\n",
    "        break"
   ]
  },
  {
   "cell_type": "code",
   "execution_count": null,
   "metadata": {},
   "outputs": [],
   "source": []
  }
 ],
 "metadata": {
  "kernelspec": {
   "display_name": "Python 3",
   "language": "python",
   "name": "python3"
  },
  "language_info": {
   "codemirror_mode": {
    "name": "ipython",
    "version": 3
   },
   "file_extension": ".py",
   "mimetype": "text/x-python",
   "name": "python",
   "nbconvert_exporter": "python",
   "pygments_lexer": "ipython3",
   "version": "3.6.5"
  }
 },
 "nbformat": 4,
 "nbformat_minor": 2
}
