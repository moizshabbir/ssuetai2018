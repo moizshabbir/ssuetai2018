{
 "cells": [
  {
   "cell_type": "code",
   "execution_count": 4,
   "metadata": {},
   "outputs": [],
   "source": [
    "class Library():\n",
    "    def __init__(self, books):\n",
    "        self.books = books\n",
    "    def list_books(self):\n",
    "        print(\"Available Books\")\n",
    "        \n",
    "        for book in self.books:\n",
    "            print(book)\n",
    "    def lend_book(self, name):\n",
    "        if name in self.books:\n",
    "            print(\"The book is available and is borrowed by customer\")\n",
    "            return self.books.remove(name);\n",
    "        else:\n",
    "            print(\"This book is not available in the library\")\n",
    "    def add_book(self, name):\n",
    "        return self.books.append(name)"
   ]
  },
  {
   "cell_type": "code",
   "execution_count": 5,
   "metadata": {},
   "outputs": [],
   "source": [
    "class Customer():\n",
    "    def request_book(self, name):\n",
    "        print(\"Enter the book name for request\")\n",
    "        book = input()\n",
    "        return book\n",
    "    def return_book(self, name):\n",
    "        print(\"Enter the book name to return\")\n",
    "        book = input()\n",
    "        return book"
   ]
  },
  {
   "cell_type": "code",
   "execution_count": null,
   "metadata": {},
   "outputs": [],
   "source": [
    "class Program():\n",
    "    def __init__(self, library, customer):\n",
    "        self.library = library\n",
    "        self.customer = customer\n",
    "        print(\"Enter 1: Get all available Books\")\n",
    "        print(\"Enter 2: Borrow Book\")\n",
    "        print(\"Enter 3: Return Book\")\n",
    "        print(\"Enter 4: Exit Program\")\n",
    "        while True:\n",
    "            \n",
    "            self.library.list_books()\n",
    "            "
   ]
  },
  {
   "cell_type": "code",
   "execution_count": 6,
   "metadata": {},
   "outputs": [
    {
     "ename": "SyntaxError",
     "evalue": "invalid syntax (<ipython-input-6-d01fb9a08c9b>, line 1)",
     "output_type": "error",
     "traceback": [
      "\u001b[1;36m  File \u001b[1;32m\"<ipython-input-6-d01fb9a08c9b>\"\u001b[1;36m, line \u001b[1;32m1\u001b[0m\n\u001b[1;33m    library = new Library(['book1', 'book2', 'book3'])\u001b[0m\n\u001b[1;37m                        ^\u001b[0m\n\u001b[1;31mSyntaxError\u001b[0m\u001b[1;31m:\u001b[0m invalid syntax\n"
     ]
    }
   ],
   "source": [
    "library = new Library(['book1', 'book2', 'book3'])\n",
    "customer = new Customer()"
   ]
  },
  {
   "cell_type": "code",
   "execution_count": 26,
   "metadata": {},
   "outputs": [],
   "source": [
    "class Cars():\n",
    "    def __init__(self, cars):\n",
    "        self.cars = cars\n",
    "    \n",
    "    def list_cars(self):\n",
    "        print(\"Available cars with rent/day\")\n",
    "        print(\"==============================\")\n",
    "        for car in self.cars:\n",
    "            print(car['name'], \" $\"+str(car['rent']))\n",
    "    \n",
    "    def borrow_car(self, b_car, days):\n",
    "        find_car = \"\"\n",
    "        for car in self.cars:\n",
    "            if car['name'] == b_car:\n",
    "                find_car = car\n",
    "        if find_car is not \"\":\n",
    "            print(find_car['name'])\n",
    "            print(\"Available for days: \", days, \" rent will be $\"+str(int(find_car['rent']) * days))\n",
    "        else: \n",
    "            print(\"Sorry\", b_car,\"car is not available\")\n",
    "                "
   ]
  },
  {
   "cell_type": "code",
   "execution_count": 27,
   "metadata": {},
   "outputs": [],
   "source": [
    "class Customer():\n",
    "    def borrow_car(self):\n",
    "        print(\"Enter car name to borrow:\")\n",
    "        car = input()\n",
    "        print(\"Enter days:\")\n",
    "        days = int(input())\n",
    "        return [car, days]\n",
    "    "
   ]
  },
  {
   "cell_type": "code",
   "execution_count": 28,
   "metadata": {},
   "outputs": [
    {
     "name": "stdout",
     "output_type": "stream",
     "text": [
      "Enter 1: Get all available Cars\n",
      "Enter 2: Borrow Car\n",
      "Enter 3: Exit Program\n",
      "1\n",
      "Available cars\n",
      "Hatchback  $30\n",
      "Sedan  $50\n",
      "SUV  $100\n",
      "2\n",
      "Enter car name to borrow:\n",
      "Sedan\n",
      "Enter days:\n",
      "3\n",
      "{'name': 'Sedan', 'rent': 50}\n",
      "Sedan\n",
      "Available for days:  3  for $150\n",
      "3\n"
     ]
    }
   ],
   "source": [
    "available_cars = [{\"name\":\"Hatchback\", \"rent\": 30}, {\"name\": \"Sedan\", \"rent\": 50}, {\"name\": \"SUV\", \"rent\": 100}]\n",
    "car =  Cars(available_cars)\n",
    "customer =  Customer()\n",
    "\n",
    "print(\"Enter 1: Get all available Cars\")\n",
    "print(\"Enter 2: Borrow Car\")\n",
    "print(\"Enter 3: Exit Program\")\n",
    "\n",
    "while True:\n",
    "    if(inVal == 1):\n",
    "        car.list_cars()\n",
    "    elif(inVal == 2):\n",
    "        list_car = customer.borrow_car()\n",
    "        car.borrow_car(list_car[0],list_car[1])\n",
    "    else:\n",
    "        break\n",
    "    inVal = int(input())\n"
   ]
  },
  {
   "cell_type": "code",
   "execution_count": 29,
   "metadata": {},
   "outputs": [
    {
     "name": "stdout",
     "output_type": "stream",
     "text": [
      "16\n",
      "{1: 1, 2: 4, 3: 9, 5: 25}\n"
     ]
    }
   ],
   "source": [
    "squares = {1:1, 2:4, 3:9, 4:16, 5:25}  \n",
    "\n",
    "print(squares.pop(4))  \n",
    "print(squares)"
   ]
  },
  {
   "cell_type": "code",
   "execution_count": 32,
   "metadata": {},
   "outputs": [
    {
     "name": "stdout",
     "output_type": "stream",
     "text": [
      "4 TutorialsPoint (4, 'TutorialsPoint')\n"
     ]
    }
   ],
   "source": [
    "a, b = c = 2 + 2, 'TutorialsPoint'\n",
    "print(a,b,c)"
   ]
  },
  {
   "cell_type": "code",
   "execution_count": 33,
   "metadata": {},
   "outputs": [
    {
     "data": {
      "text/plain": [
       "range(1, 10)"
      ]
     },
     "execution_count": 33,
     "metadata": {},
     "output_type": "execute_result"
    }
   ],
   "source": [
    "range(1, 10)"
   ]
  },
  {
   "cell_type": "code",
   "execution_count": 34,
   "metadata": {},
   "outputs": [
    {
     "name": "stdout",
     "output_type": "stream",
     "text": [
      "range(1, 10)\n"
     ]
    }
   ],
   "source": [
    "print(range(1,10))"
   ]
  },
  {
   "cell_type": "code",
   "execution_count": 37,
   "metadata": {},
   "outputs": [
    {
     "name": "stdout",
     "output_type": "stream",
     "text": [
      "1\n",
      "2\n",
      "4\n",
      "7\n",
      "11\n",
      "16\n",
      "22\n",
      "29\n",
      "37\n"
     ]
    }
   ],
   "source": [
    "b = 1\n",
    "for a in range(1,10):\n",
    "    b += a-1\n",
    "    print(bx = 50\n",
    "def func(x):\n",
    "        print('x is', x)\n",
    "        x = 2\n",
    "        print('Changed local x to', x)\n",
    "\n",
    "func(x)\n",
    "print('x is still', x))"
   ]
  },
  {
   "cell_type": "code",
   "execution_count": 38,
   "metadata": {},
   "outputs": [
    {
     "name": "stdout",
     "output_type": "stream",
     "text": [
      "x is 50\n",
      "Changed local x to 2\n",
      "x is still 50\n"
     ]
    }
   ],
   "source": [
    "x = 50\n",
    "def func(x):\n",
    "        print('x is', x)\n",
    "        x = 2\n",
    "        print('Changed local x to', x)\n",
    "\n",
    "func(x)\n",
    "print('x is still', x)"
   ]
  },
  {
   "cell_type": "code",
   "execution_count": 39,
   "metadata": {},
   "outputs": [
    {
     "name": "stdout",
     "output_type": "stream",
     "text": [
      "1000"
     ]
    }
   ],
   "source": [
    "def call(var1, var2, var3) :\n",
    "        print(var1 * var2 * var3, end ='')\n",
    "a = b = c = 10\n",
    "call(a, b, c)"
   ]
  },
  {
   "cell_type": "code",
   "execution_count": 40,
   "metadata": {},
   "outputs": [
    {
     "name": "stdout",
     "output_type": "stream",
     "text": [
      "Feb\n"
     ]
    }
   ],
   "source": [
    "x = {1:'Jan', 2:'Feb', 3:'March', 4:'April'}\n",
    "print(x[2])"
   ]
  },
  {
   "cell_type": "code",
   "execution_count": 41,
   "metadata": {},
   "outputs": [
    {
     "name": "stdout",
     "output_type": "stream",
     "text": [
      "234"
     ]
    }
   ],
   "source": [
    "def gen():\n",
    "        x = 2\n",
    "        while True:\n",
    "                yield x\n",
    "                x += 1\n",
    "\n",
    "y = gen()\n",
    "for i in y:\n",
    "        if i >= 5:\n",
    "                break\n",
    "        else:\n",
    "                print(i, end='')"
   ]
  },
  {
   "cell_type": "code",
   "execution_count": 42,
   "metadata": {},
   "outputs": [
    {
     "name": "stdout",
     "output_type": "stream",
     "text": [
      "012345"
     ]
    }
   ],
   "source": [
    "x = 0\n",
    "y = 4\n",
    "while x + y < 10:\n",
    "        print(x, end='')\n",
    "        x += 1"
   ]
  },
  {
   "cell_type": "code",
   "execution_count": 43,
   "metadata": {},
   "outputs": [
    {
     "name": "stdout",
     "output_type": "stream",
     "text": [
      "1 6 11 16 21 "
     ]
    }
   ],
   "source": [
    "for i in range(1,25,5):\n",
    "        print(i, end=' ')"
   ]
  },
  {
   "cell_type": "code",
   "execution_count": 44,
   "metadata": {},
   "outputs": [
    {
     "name": "stdout",
     "output_type": "stream",
     "text": [
      "[(0, 0), (2, 2)]\n"
     ]
    }
   ],
   "source": [
    "a = [(x, y) for x in [0, 2] for y in [2, 4, 0] if x==y]\n",
    "print(a)"
   ]
  },
  {
   "cell_type": "code",
   "execution_count": 46,
   "metadata": {},
   "outputs": [
    {
     "name": "stdout",
     "output_type": "stream",
     "text": [
      "i from A is 60\n"
     ]
    }
   ],
   "source": [
    "class A:\n",
    "        def __init__(self):\n",
    "                self.setI(20)\n",
    "                print(\"i from A is\", self.i)\n",
    "\n",
    "        def setI(self, i):\n",
    "                self.i = 2 * i;\n",
    "\n",
    "class B(A):\n",
    "        def __init__(self):\n",
    "                super().__init__()\n",
    "        \n",
    "        def setI(self, i):\n",
    "                self.i = 3 * i;\n",
    "\n",
    "b = B()for i in range(1, 5):\n",
    "        print('Python 3')"
   ]
  },
  {
   "cell_type": "code",
   "execution_count": 47,
   "metadata": {},
   "outputs": [
    {
     "name": "stdout",
     "output_type": "stream",
     "text": [
      "Python 3\n",
      "Python 3\n",
      "Python 3\n",
      "Python 3\n"
     ]
    }
   ],
   "source": [
    "for i in range(1, 5):\n",
    "        print('Python 3')"
   ]
  },
  {
   "cell_type": "code",
   "execution_count": 48,
   "metadata": {},
   "outputs": [
    {
     "name": "stdout",
     "output_type": "stream",
     "text": [
      "012345"
     ]
    }
   ],
   "source": [
    "x = 0\n",
    "y = 4\n",
    "while x + y < 10:\n",
    "        print(x, end='')\n",
    "        x += 1"
   ]
  },
  {
   "cell_type": "code",
   "execution_count": 49,
   "metadata": {},
   "outputs": [
    {
     "name": "stdout",
     "output_type": "stream",
     "text": [
      "A A A\n"
     ]
    }
   ],
   "source": [
    "class A:\n",
    "        def __str__(self):\n",
    "                return \"A\"\n",
    "\n",
    "class B(A):\n",
    "        def __init__(self):\n",
    "                super().__init__()\n",
    "\n",
    "class C(B):\n",
    "        def __init__(self):\n",
    "                super().__init__()\n",
    "\n",
    "def main():\n",
    "        b = B()\n",
    "        a = A()\n",
    "        c = C()\n",
    "        print(a, b, c)\n",
    "\n",
    "main()"
   ]
  },
  {
   "cell_type": "code",
   "execution_count": null,
   "metadata": {},
   "outputs": [],
   "source": []
  },
  {
   "cell_type": "code",
   "execution_count": 50,
   "metadata": {},
   "outputs": [
    {
     "name": "stdout",
     "output_type": "stream",
     "text": [
      "37\n"
     ]
    }
   ],
   "source": [
    "b = 1\n",
    "for a in range(1, 10):\n",
    "        b += a - 1\n",
    "print(b)"
   ]
  },
  {
   "cell_type": "code",
   "execution_count": null,
   "metadata": {},
   "outputs": [],
   "source": []
  }
 ],
 "metadata": {
  "kernelspec": {
   "display_name": "Python 3",
   "language": "python",
   "name": "python3"
  },
  "language_info": {
   "codemirror_mode": {
    "name": "ipython",
    "version": 3
   },
   "file_extension": ".py",
   "mimetype": "text/x-python",
   "name": "python",
   "nbconvert_exporter": "python",
   "pygments_lexer": "ipython3",
   "version": "3.6.5"
  }
 },
 "nbformat": 4,
 "nbformat_minor": 2
}
