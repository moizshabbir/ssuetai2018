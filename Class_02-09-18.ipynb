{
 "cells": [
  {
   "cell_type": "code",
   "execution_count": 2,
   "metadata": {},
   "outputs": [
    {
     "name": "stdout",
     "output_type": "stream",
     "text": [
      "Hello, Test!\n",
      "Hello, Moiz!\n",
      "Hello, Shabbir!\n"
     ]
    }
   ],
   "source": [
    "def greet_users(names):\n",
    "    for name in names:\n",
    "        msg = \"Hello, \" + name.title() +\"!\"\n",
    "        print(msg)\n",
    "usernames = ['test', 'moiz','shabbir']\n",
    "greet_users(usernames)\n",
    "        "
   ]
  },
  {
   "cell_type": "code",
   "execution_count": 24,
   "metadata": {},
   "outputs": [
    {
     "data": {
      "text/plain": [
       "'Hello, Moiz! Age: 18 Dob: 2018-01-02'"
      ]
     },
     "execution_count": 24,
     "metadata": {},
     "output_type": "execute_result"
    }
   ],
   "source": [
    "def greet_users(name, age, dob):\n",
    "    msg = \"Hello, \" + name.title() +\"! \"\n",
    "    msg += \"Age: \" + str(age) + \" \"\n",
    "    msg += \"Dob: \" + dob\n",
    "    return msg\n",
    "greet_users(age=18, dob=\"2018-01-02\", name=\"Moiz\")"
   ]
  },
  {
   "cell_type": "code",
   "execution_count": 32,
   "metadata": {},
   "outputs": [],
   "source": [
    "def dob():\n",
    "    return\n",
    "dob()"
   ]
  },
  {
   "cell_type": "code",
   "execution_count": 34,
   "metadata": {},
   "outputs": [],
   "source": [
    "for i in range(10):\n",
    "    pass"
   ]
  },
  {
   "cell_type": "code",
   "execution_count": 37,
   "metadata": {},
   "outputs": [
    {
     "name": "stdout",
     "output_type": "stream",
     "text": [
      "Name:  Moiz  Age: 30\n"
     ]
    }
   ],
   "source": [
    "def default_val(age = 18, name = \"Moiz\"):\n",
    "    print(\"Name: \", name, \" Age:\", age)\n",
    "default_val(age = 30)"
   ]
  },
  {
   "cell_type": "code",
   "execution_count": 38,
   "metadata": {},
   "outputs": [
    {
     "data": {
      "text/plain": [
       "NoneType"
      ]
     },
     "execution_count": 38,
     "metadata": {},
     "output_type": "execute_result"
    }
   ],
   "source": [
    "a = None\n",
    "type(a)"
   ]
  },
  {
   "cell_type": "code",
   "execution_count": 57,
   "metadata": {},
   "outputs": [
    {
     "name": "stdout",
     "output_type": "stream",
     "text": [
      "I have car  Audi .\n"
     ]
    }
   ],
   "source": [
    "def dref(car, mobile = 'iphone'):\n",
    "    print('I have car ',car,'.')\n",
    "    if(mobile != None):\n",
    "        print('I have mobile ', mobile,'.')\n",
    "dref(\"Audi\", None)"
   ]
  },
  {
   "cell_type": "code",
   "execution_count": 59,
   "metadata": {},
   "outputs": [
    {
     "name": "stdout",
     "output_type": "stream",
     "text": [
      "Your name is Moiz Shabbir Hussain\n",
      "Your name is Moiz  Hussain\n",
      "Your name is Moiz Shabbir \n",
      "Your name is Moiz  \n"
     ]
    }
   ],
   "source": [
    "def getName(first_name, middle_name=\"\", last_name=\"\"):\n",
    "    print(\"Your name is\", first_name, middle_name, last_name)\n",
    "\n",
    "getName(\"Moiz\",\"Shabbir\",\"Hussain\")\n",
    "getName(\"Moiz\", \"\", \"Hussain\")\n",
    "getName(\"Moiz\",\"Shabbir\")\n",
    "getName(\"Moiz\")"
   ]
  },
  {
   "cell_type": "code",
   "execution_count": 71,
   "metadata": {},
   "outputs": [
    {
     "name": "stdout",
     "output_type": "stream",
     "text": [
      "Your name is Moiz Shabbir Hussain\n",
      "Your name is New Name\n",
      "Your name is Yes\n"
     ]
    }
   ],
   "source": [
    "def getNewName(*names):\n",
    "    print(\"Your name is\", \" \".join(names[0]))\n",
    "names = [\"Moiz Shabbir Hussain\", \"New Name\", \"Yes\"]\n",
    "for name in names: \n",
    "    getNewName(name.split(\" \"))"
   ]
  },
  {
   "cell_type": "code",
   "execution_count": 72,
   "metadata": {},
   "outputs": [
    {
     "name": "stdout",
     "output_type": "stream",
     "text": [
      "Your Name is: Moiz Husain Shabbir\n"
     ]
    }
   ],
   "source": [
    "def dictArg(**Names):\n",
    "    print(\"Your Name is:\",Names['first_name'], Names['last_name'], Names['middle_name'])\n",
    "dictArg(first_name= 'Moiz', last_name=\"Husain\", middle_name=\"Shabbir\")"
   ]
  },
  {
   "cell_type": "code",
   "execution_count": 73,
   "metadata": {},
   "outputs": [
    {
     "ename": "SyntaxError",
     "evalue": "invalid syntax (<ipython-input-73-32a56861dfa2>, line 1)",
     "output_type": "error",
     "traceback": [
      "\u001b[1;36m  File \u001b[1;32m\"<ipython-input-73-32a56861dfa2>\"\u001b[1;36m, line \u001b[1;32m1\u001b[0m\n\u001b[1;33m    def pizza(size, *toppings, **dirnks, *extra):\u001b[0m\n\u001b[1;37m                                         ^\u001b[0m\n\u001b[1;31mSyntaxError\u001b[0m\u001b[1;31m:\u001b[0m invalid syntax\n"
     ]
    }
   ],
   "source": [
    "def pizza(size, *toppings, **dirnks, *extra):\n",
    "    print(size,toppings,drinks,extra)\n",
    "pizza(10, \"peporani\", cold=\"pepsi\", tea=\"green\", \"table1\")"
   ]
  },
  {
   "cell_type": "code",
   "execution_count": null,
   "metadata": {},
   "outputs": [],
   "source": []
  }
 ],
 "metadata": {
  "kernelspec": {
   "display_name": "Python 3",
   "language": "python",
   "name": "python3"
  },
  "language_info": {
   "codemirror_mode": {
    "name": "ipython",
    "version": 3
   },
   "file_extension": ".py",
   "mimetype": "text/x-python",
   "name": "python",
   "nbconvert_exporter": "python",
   "pygments_lexer": "ipython3",
   "version": "3.6.5"
  }
 },
 "nbformat": 4,
 "nbformat_minor": 2
}
