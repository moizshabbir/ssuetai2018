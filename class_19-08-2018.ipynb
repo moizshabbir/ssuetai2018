{
 "cells": [
  {
   "cell_type": "markdown",
   "metadata": {},
   "source": []
  },
  {
   "cell_type": "code",
   "execution_count": 4,
   "metadata": {},
   "outputs": [
    {
     "data": {
      "text/plain": [
       "{'n1': [1, 2, 3], 'n2': [1, 2, 5], 'n3': [2, 3, 4]}"
      ]
     },
     "execution_count": 4,
     "metadata": {},
     "output_type": "execute_result"
    }
   ],
   "source": [
    "some_numbers = {'n1': [2,3,1], 'n2': [5,1,2], 'n3': [3,2,4]}\n",
    "sorted_number = {}\n",
    "for k,v in some_numbers.items():\n",
    "    sorted_number[k] = sorted(v)\n",
    "sorted_number"
   ]
  },
  {
   "cell_type": "code",
   "execution_count": 5,
   "metadata": {},
   "outputs": [
    {
     "data": {
      "text/plain": [
       "{'n1': [1, 2, 3], 'n2': [1, 2, 5], 'n3': [2, 3, 4]}"
      ]
     },
     "execution_count": 5,
     "metadata": {},
     "output_type": "execute_result"
    }
   ],
   "source": [
    "{k:sorted(v) for k, v in some_numbers.items()}"
   ]
  },
  {
   "cell_type": "code",
   "execution_count": 23,
   "metadata": {},
   "outputs": [
    {
     "name": "stdout",
     "output_type": "stream",
     "text": [
      "Enter a word: dsfasd\n",
      "Word is not present in inventory\n"
     ]
    }
   ],
   "source": [
    "inventory = {\n",
    "    'gold': ['flint', 'twine','gestone', 'hagger', 'turbole'],\n",
    "    'pouch':['flint', 'twine','gestone', 'hagger', 'turbole'],\n",
    "    'backpack': ['xylophone', 'dagger', 'bedroll', 'bread loaf']\n",
    "}\n",
    "\n",
    "x = input(\"Enter a word: \")\n",
    "try:\n",
    "    if inventory[x]:\n",
    "        print(\"Your inventory is\",inventory[x])\n",
    "        y = input(\"Enter a name: \")\n",
    "        print([ i for i in inventory[x] if(i != y)])\n",
    "except KeyError:\n",
    "    print(\"Word is not present in inventory\")"
   ]
  },
  {
   "cell_type": "code",
   "execution_count": 57,
   "metadata": {},
   "outputs": [
    {
     "name": "stdout",
     "output_type": "stream",
     "text": [
      "Enter a word: jhdsfka\n",
      "Word is not present in inventory\n"
     ]
    }
   ],
   "source": [
    "inventory = {\n",
    "    'gold': ['flint', 'twine','gestone', 'hagger', 'turbole'],\n",
    "    'pouch':['flint', 'twine','gestone', 'hagger', 'turbole'],\n",
    "    'backpack': ['xylophone', 'dagger', 'bedroll', 'bread loaf']\n",
    "}\n",
    "\n",
    "x = input(\"Enter a word: \")\n",
    "if inventory.get(x):\n",
    "    print(\"Your inventory is\",inventory[x])\n",
    "    y = input(\"Enter a name: \")\n",
    "    print([ i for i in inventory[x] if(i != y)])\n",
    "else:\n",
    "    print(\"Word is not present in inventory\")"
   ]
  },
  {
   "cell_type": "code",
   "execution_count": 41,
   "metadata": {},
   "outputs": [
    {
     "name": "stdout",
     "output_type": "stream",
     "text": [
      "['shahzad', 'AI', 'B']\n"
     ]
    }
   ],
   "source": [
    "person = {'name': 'shahzad', 'program': 'AI', 'section': 'B'}\n",
    "print([person[k] for k in person.keys()])"
   ]
  },
  {
   "cell_type": "code",
   "execution_count": 49,
   "metadata": {},
   "outputs": [
    {
     "name": "stdout",
     "output_type": "stream",
     "text": [
      "Enter a name: amir_saleem\n",
      "html \n",
      "\n",
      "css \n",
      "\n",
      "excel \n",
      "\n"
     ]
    }
   ],
   "source": [
    "user_languages = {\n",
    "    'osama': ['C', 'C#', 'Python'],\n",
    "    'amir_saleem': ['html','css','excel'],\n",
    "    'shazad': ['Ruby', 'Swift']\n",
    "}\n",
    "x = input(\"Enter a name: \")\n",
    "for y in user_languages[x]:\n",
    "    print(y,\"\\n\")"
   ]
  },
  {
   "cell_type": "code",
   "execution_count": 56,
   "metadata": {},
   "outputs": [
    {
     "name": "stdout",
     "output_type": "stream",
     "text": [
      "0 - 1\n",
      "1 - 23\n",
      "2 - 4\n",
      "3 - 5\n",
      "4 - 6\n"
     ]
    }
   ],
   "source": [
    "li = [1,23,4,5,6]\n",
    "for index, v in enumerate(li):\n",
    "    print(index,\"-\",v)\n"
   ]
  },
  {
   "cell_type": "code",
   "execution_count": 58,
   "metadata": {},
   "outputs": [
    {
     "data": {
      "text/plain": [
       "'shahzad'"
      ]
     },
     "execution_count": 58,
     "metadata": {},
     "output_type": "execute_result"
    }
   ],
   "source": [
    "person.get('name','subject')"
   ]
  },
  {
   "cell_type": "code",
   "execution_count": 64,
   "metadata": {},
   "outputs": [
    {
     "name": "stdout",
     "output_type": "stream",
     "text": [
      "{'person': 2}\n"
     ]
    }
   ],
   "source": [
    "dic = {'person':1,'person':2 }\n",
    "print(dic)"
   ]
  },
  {
   "cell_type": "code",
   "execution_count": 71,
   "metadata": {},
   "outputs": [
    {
     "data": {
      "text/plain": [
       "{'person': 3, 'new': 2}"
      ]
     },
     "execution_count": 71,
     "metadata": {},
     "output_type": "execute_result"
    }
   ],
   "source": [
    "dic.update({'person':3})\n",
    "dic"
   ]
  },
  {
   "cell_type": "markdown",
   "metadata": {},
   "source": [
    "# Take a input from user if it is exist then update else append in disctionary"
   ]
  },
  {
   "cell_type": "code",
   "execution_count": 81,
   "metadata": {},
   "outputs": [
    {
     "name": "stdout",
     "output_type": "stream",
     "text": [
      "Enter a name,password: userna,3242\n",
      "You have successfully register\n"
     ]
    },
    {
     "data": {
      "text/plain": [
       "[{'name': 'hamza', 'password': 'hamze'},\n",
       " {'name': 'ayaz', 'password': 'hamze'},\n",
       " {'name': 'nasir', 'password': 'hamze'},\n",
       " {'name': 'moiz', 'password': 'hamze'},\n",
       " {'name': 'userna', 'password': '3242'}]"
      ]
     },
     "execution_count": 81,
     "metadata": {},
     "output_type": "execute_result"
    }
   ],
   "source": [
    "usernames = [\n",
    "    {\"name\": \"hamza\", \"password\": \"hamze\"},\n",
    "    {\"name\": \"ayaz\", \"password\": \"hamze\"},\n",
    "    {\"name\": \"nasir\", \"password\": \"hamze\"},\n",
    "    {\"name\": \"moiz\", \"password\": \"hamze\"}\n",
    "]\n",
    "x = input(\"Enter a name,password: \")\n",
    "u = x.split(',')\n",
    "bFound = False\n",
    "for x in usernames:\n",
    "    if x.get('name') == u[0]:\n",
    "        x.update({'password':u[1]})\n",
    "        print(\"you have successfully update your password\")\n",
    "        bFound = True\n",
    "if not bFound:\n",
    "    usernames.append({'name':u[0],'password':u[1]})\n",
    "    print('You have successfully register')\n",
    "    \n",
    "usernames"
   ]
  },
  {
   "cell_type": "markdown",
   "metadata": {},
   "source": [
    "# Zip"
   ]
  },
  {
   "cell_type": "code",
   "execution_count": 90,
   "metadata": {},
   "outputs": [
    {
     "data": {
      "text/plain": [
       "{1: 11, 2: 12, 3: 13, 4: 14, 5: 15, 6: 16, 7: 17, 8: 18, 9: 19, 10: 20}"
      ]
     },
     "execution_count": 90,
     "metadata": {},
     "output_type": "execute_result"
    }
   ],
   "source": [
    "li = [1,2,3,4,5,6,7,8,9,10,11]\n",
    "li2 = [11,12,13,14,15,16,17,18,19,20]\n",
    "dic = dict(zip(li,li2))\n",
    "dic"
   ]
  },
  {
   "cell_type": "code",
   "execution_count": 89,
   "metadata": {},
   "outputs": [
    {
     "data": {
      "text/plain": [
       "((1, 11, 21),\n",
       " (2, 12, 22),\n",
       " (3, 13, 23),\n",
       " (4, 14, 24),\n",
       " (5, 15, 25),\n",
       " (6, 16, 26),\n",
       " (7, 17, 27),\n",
       " (8, 18, 28),\n",
       " (9, 19, 29),\n",
       " (10, 20, 30))"
      ]
     },
     "execution_count": 89,
     "metadata": {},
     "output_type": "execute_result"
    }
   ],
   "source": [
    "li = [1,2,3,4,5,6,7,8,9,10,11]\n",
    "li2 = [11,12,13,14,15,16,17,18,19,20]\n",
    "li3 = [21,22,23,24,25,26,27,28,29,30]\n",
    "dic = tuple(zip(li,li2,li3))\n",
    "dic"
   ]
  },
  {
   "cell_type": "code",
   "execution_count": 91,
   "metadata": {},
   "outputs": [
    {
     "data": {
      "text/plain": [
       "[(1, 11, 21),\n",
       " (2, 12, 22),\n",
       " (3, 13, 23),\n",
       " (4, 14, 24),\n",
       " (5, 15, 25),\n",
       " (6, 16, 26),\n",
       " (7, 17, 27),\n",
       " (8, 18, 28),\n",
       " (9, 19, 29),\n",
       " (10, 20, 30)]"
      ]
     },
     "execution_count": 91,
     "metadata": {},
     "output_type": "execute_result"
    }
   ],
   "source": [
    "li = [1,2,3,4,5,6,7,8,9,10,11]\n",
    "li2 = [11,12,13,14,15,16,17,18,19,20]\n",
    "li3 = [21,22,23,24,25,26,27,28,29,30]\n",
    "dic = list(zip(li,li2,li3))\n",
    "dic"
   ]
  },
  {
   "cell_type": "code",
   "execution_count": null,
   "metadata": {},
   "outputs": [],
   "source": []
  }
 ],
 "metadata": {
  "kernelspec": {
   "display_name": "Python 3",
   "language": "python",
   "name": "python3"
  },
  "language_info": {
   "codemirror_mode": {
    "name": "ipython",
    "version": 3
   },
   "file_extension": ".py",
   "mimetype": "text/x-python",
   "name": "python",
   "nbconvert_exporter": "python",
   "pygments_lexer": "ipython3",
   "version": "3.6.5"
  }
 },
 "nbformat": 4,
 "nbformat_minor": 2
}
